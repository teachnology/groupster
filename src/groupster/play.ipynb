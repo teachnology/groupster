{
 "cells": [
  {
   "cell_type": "code",
   "execution_count": 1,
   "metadata": {},
   "outputs": [],
   "source": [
    "import pandas as pd\n",
    "\n",
    "import groupster as gr"
   ]
  },
  {
   "cell_type": "code",
   "execution_count": 2,
   "metadata": {},
   "outputs": [
    {
     "data": {
      "text/plain": [
       "num_mark_mean    65.745102\n",
       "num_mark_std      5.383409\n",
       "dtype: float64"
      ]
     },
     "execution_count": 2,
     "metadata": {},
     "output_type": "execute_result"
    }
   ],
   "source": [
    "data = pd.read_csv(\"../../tests/data/cohort.csv\", index_col=\"username\")\n",
    "groups = {\"g1\": 10, \"g2\": 10, \"g3\": 10, \"g4\": 10, \"g5\": 9}\n",
    "\n",
    "cohort = gr.Cohort(\n",
    "    data,\n",
    "    nums=[\"mark\"],\n",
    "    groups=groups,\n",
    ")\n",
    "\n",
    "cohort.diversity"
   ]
  },
  {
   "cell_type": "code",
   "execution_count": 3,
   "metadata": {},
   "outputs": [
    {
     "name": "stdout",
     "output_type": "stream",
     "text": [
      "1.507786457028978\n",
      "1.062341752921347\n"
     ]
    },
    {
     "data": {
      "text/html": [
       "<div>\n",
       "<style scoped>\n",
       "    .dataframe tbody tr th:only-of-type {\n",
       "        vertical-align: middle;\n",
       "    }\n",
       "\n",
       "    .dataframe tbody tr th {\n",
       "        vertical-align: top;\n",
       "    }\n",
       "\n",
       "    .dataframe thead th {\n",
       "        text-align: right;\n",
       "    }\n",
       "</style>\n",
       "<table border=\"1\" class=\"dataframe\">\n",
       "  <thead>\n",
       "    <tr style=\"text-align: right;\">\n",
       "      <th></th>\n",
       "      <th>size</th>\n",
       "      <th>diversity_cost</th>\n",
       "      <th>mean(mark)</th>\n",
       "      <th>std(mark)</th>\n",
       "    </tr>\n",
       "    <tr>\n",
       "      <th>group</th>\n",
       "      <th></th>\n",
       "      <th></th>\n",
       "      <th></th>\n",
       "      <th></th>\n",
       "    </tr>\n",
       "  </thead>\n",
       "  <tbody>\n",
       "    <tr>\n",
       "      <th>g1</th>\n",
       "      <td>10</td>\n",
       "      <td>0.014346</td>\n",
       "      <td>66.36</td>\n",
       "      <td>5.05</td>\n",
       "    </tr>\n",
       "    <tr>\n",
       "      <th>g2</th>\n",
       "      <td>10</td>\n",
       "      <td>0.030397</td>\n",
       "      <td>64.68</td>\n",
       "      <td>4.45</td>\n",
       "    </tr>\n",
       "    <tr>\n",
       "      <th>g3</th>\n",
       "      <td>10</td>\n",
       "      <td>0.057021</td>\n",
       "      <td>63.76</td>\n",
       "      <td>7.15</td>\n",
       "    </tr>\n",
       "    <tr>\n",
       "      <th>g4</th>\n",
       "      <td>10</td>\n",
       "      <td>0.024072</td>\n",
       "      <td>66.68</td>\n",
       "      <td>4.74</td>\n",
       "    </tr>\n",
       "    <tr>\n",
       "      <th>g5</th>\n",
       "      <td>9</td>\n",
       "      <td>0.025692</td>\n",
       "      <td>67.41</td>\n",
       "      <td>5.40</td>\n",
       "    </tr>\n",
       "  </tbody>\n",
       "</table>\n",
       "</div>"
      ],
      "text/plain": [
       "       size  diversity_cost  mean(mark)  std(mark)\n",
       "group                                             \n",
       "g1       10        0.014346       66.36       5.05\n",
       "g2       10        0.030397       64.68       4.45\n",
       "g3       10        0.057021       63.76       7.15\n",
       "g4       10        0.024072       66.68       4.74\n",
       "g5        9        0.025692       67.41       5.40"
      ]
     },
     "execution_count": 3,
     "metadata": {},
     "output_type": "execute_result"
    }
   ],
   "source": [
    "print(cohort.overview()[\"mean(mark)\"].std())\n",
    "print(cohort.overview()[\"std(mark)\"].std())\n",
    "\n",
    "cohort.overview()"
   ]
  },
  {
   "cell_type": "code",
   "execution_count": 4,
   "metadata": {},
   "outputs": [
    {
     "name": "stderr",
     "output_type": "stream",
     "text": [
      "Solving: 100%|██████████| 3000/3000 [00:14<00:00, 209.97it/s, diversity_cost=0.0177, restriction_cost=0, acceptance_rate=0]            \n"
     ]
    }
   ],
   "source": [
    "solver = gr.Solver()\n",
    "solver.solve(cohort=cohort, n=3000)"
   ]
  },
  {
   "cell_type": "code",
   "execution_count": 5,
   "metadata": {},
   "outputs": [
    {
     "name": "stdout",
     "output_type": "stream",
     "text": [
      "0.004472135955001867\n",
      "0.23607202290826423\n"
     ]
    },
    {
     "data": {
      "text/html": [
       "<div>\n",
       "<style scoped>\n",
       "    .dataframe tbody tr th:only-of-type {\n",
       "        vertical-align: middle;\n",
       "    }\n",
       "\n",
       "    .dataframe tbody tr th {\n",
       "        vertical-align: top;\n",
       "    }\n",
       "\n",
       "    .dataframe thead th {\n",
       "        text-align: right;\n",
       "    }\n",
       "</style>\n",
       "<table border=\"1\" class=\"dataframe\">\n",
       "  <thead>\n",
       "    <tr style=\"text-align: right;\">\n",
       "      <th></th>\n",
       "      <th>size</th>\n",
       "      <th>diversity_cost</th>\n",
       "      <th>mean(mark)</th>\n",
       "      <th>std(mark)</th>\n",
       "    </tr>\n",
       "    <tr>\n",
       "      <th>group</th>\n",
       "      <th></th>\n",
       "      <th></th>\n",
       "      <th></th>\n",
       "      <th></th>\n",
       "    </tr>\n",
       "  </thead>\n",
       "  <tbody>\n",
       "    <tr>\n",
       "      <th>g1</th>\n",
       "      <td>10</td>\n",
       "      <td>0.007057</td>\n",
       "      <td>65.75</td>\n",
       "      <td>5.84</td>\n",
       "    </tr>\n",
       "    <tr>\n",
       "      <th>g2</th>\n",
       "      <td>10</td>\n",
       "      <td>0.007816</td>\n",
       "      <td>65.74</td>\n",
       "      <td>5.90</td>\n",
       "    </tr>\n",
       "    <tr>\n",
       "      <th>g3</th>\n",
       "      <td>10</td>\n",
       "      <td>0.001910</td>\n",
       "      <td>65.74</td>\n",
       "      <td>5.51</td>\n",
       "    </tr>\n",
       "    <tr>\n",
       "      <th>g4</th>\n",
       "      <td>10</td>\n",
       "      <td>0.000540</td>\n",
       "      <td>65.74</td>\n",
       "      <td>5.42</td>\n",
       "    </tr>\n",
       "    <tr>\n",
       "      <th>g5</th>\n",
       "      <td>9</td>\n",
       "      <td>0.000368</td>\n",
       "      <td>65.74</td>\n",
       "      <td>5.41</td>\n",
       "    </tr>\n",
       "  </tbody>\n",
       "</table>\n",
       "</div>"
      ],
      "text/plain": [
       "       size  diversity_cost  mean(mark)  std(mark)\n",
       "group                                             \n",
       "g1       10        0.007057       65.75       5.84\n",
       "g2       10        0.007816       65.74       5.90\n",
       "g3       10        0.001910       65.74       5.51\n",
       "g4       10        0.000540       65.74       5.42\n",
       "g5        9        0.000368       65.74       5.41"
      ]
     },
     "execution_count": 5,
     "metadata": {},
     "output_type": "execute_result"
    }
   ],
   "source": [
    "print(cohort.overview()[\"mean(mark)\"].std())\n",
    "print(cohort.overview()[\"std(mark)\"].std())\n",
    "\n",
    "cohort.overview()"
   ]
  },
  {
   "cell_type": "code",
   "execution_count": 6,
   "metadata": {},
   "outputs": [
    {
     "name": "stderr",
     "output_type": "stream",
     "text": [
      "Solving: 100%|██████████| 2000/2000 [00:10<00:00, 193.46it/s, diversity_cost=0.0183, restriction_cost=-13, acceptance_rate=0]          \n"
     ]
    }
   ],
   "source": [
    "data = pd.read_csv(\"../../tests/data/cohort.csv\", index_col=\"username\")\n",
    "groups = {\"g1\": 10, \"g2\": 10, \"g3\": 10, \"g4\": 10, \"g5\": 9}\n",
    "\n",
    "cohort = gr.Cohort(\n",
    "    data,\n",
    "    nums=[\"mark\"],\n",
    "    groups=groups,\n",
    ")\n",
    "\n",
    "keep_together = [[\"ff402\", \"yjt99\", \"cr947\"], [\"jr848\", \"fs81\"]]\n",
    "solver = gr.Solver(keep_together=keep_together)\n",
    "\n",
    "solver.solve(cohort=cohort, n=2000)"
   ]
  },
  {
   "cell_type": "code",
   "execution_count": null,
   "metadata": {},
   "outputs": [
    {
     "name": "stdout",
     "output_type": "stream",
     "text": [
      "1\n",
      "1\n"
     ]
    }
   ],
   "source": [
    "for subset in keep_together:\n",
    "    print(cohort.data.loc[subset, \"group\"].value_counts())"
   ]
  },
  {
   "cell_type": "code",
   "execution_count": 31,
   "metadata": {},
   "outputs": [
    {
     "name": "stderr",
     "output_type": "stream",
     "text": [
      "Solving: 100%|██████████| 2000/2000 [00:12<00:00, 155.74it/s, diversity_cost=0.437, restriction_cost=-8, acceptance_rate=0.015]        \n"
     ]
    }
   ],
   "source": [
    "data = pd.read_csv(\"../../tests/data/cohort.csv\", index_col=\"username\")\n",
    "groups = {\"g1\": 10, \"g2\": 10, \"g3\": 10, \"g4\": 10, \"g5\": 9}\n",
    "\n",
    "cohort = gr.Cohort(data=data, groups=groups, bools=[\"female\", \"edsml\"], nums=[\"mark\"])\n",
    "keep_together = [[\"ff402\", \"yjt99\", \"cr947\"], [\"jr848\", \"fs81\"]]\n",
    "keep_separate = [[\"yz9097\", \"ay631\", \"mpc1253\"], [\"qbk99\", \"fxg194\"]]\n",
    "solver = gr.Solver(\n",
    "    keep_together=keep_together,\n",
    "    keep_separate=keep_separate,\n",
    ")\n",
    "initial_overview = cohort.overview()\n",
    "solver.solve(cohort=cohort, n=2000)\n",
    "final_overview = cohort.overview()\n",
    "\n",
    "# We expect the variability (std) of mean and std to decrease.\n",
    "assert final_overview[\"mean(mark)\"].std() < initial_overview[\"mean(mark)\"].std()\n",
    "assert final_overview[\"std(mark)\"].std() < initial_overview[\"std(mark)\"].std()\n",
    "\n",
    "assert final_overview.female.isin([2, 3]).all()\n",
    "assert final_overview.edsml.isin([3, 4]).all()\n",
    "\n",
    "for subset in keep_together:\n",
    "    assert cohort.data.loc[subset, \"group\"].value_counts().size == 1\n",
    "\n",
    "for subset in keep_separate:\n",
    "    assert cohort.data.loc[subset, \"group\"].value_counts().size == len(subset)"
   ]
  }
 ],
 "metadata": {
  "kernelspec": {
   "display_name": ".venv",
   "language": "python",
   "name": "python3"
  },
  "language_info": {
   "codemirror_mode": {
    "name": "ipython",
    "version": 3
   },
   "file_extension": ".py",
   "mimetype": "text/x-python",
   "name": "python",
   "nbconvert_exporter": "python",
   "pygments_lexer": "ipython3",
   "version": "3.13.0"
  }
 },
 "nbformat": 4,
 "nbformat_minor": 2
}
