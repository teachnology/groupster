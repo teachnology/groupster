{
 "cells": [
  {
   "cell_type": "code",
   "execution_count": 1,
   "metadata": {},
   "outputs": [],
   "source": [
    "import fakeitmakeit as fm\n",
    "import pandas as pd\n",
    "import groupster as gr"
   ]
  },
  {
   "cell_type": "code",
   "execution_count": 2,
   "metadata": {},
   "outputs": [
    {
     "data": {
      "text/plain": [
       "num_mark_mean    63.194082\n",
       "num_mark_std     14.129970\n",
       "dtype: float64"
      ]
     },
     "execution_count": 2,
     "metadata": {},
     "output_type": "execute_result"
    }
   ],
   "source": [
    "data = pd.read_csv(\"../../tests/data/cohort.csv\", index_col=\"username\")\n",
    "groups = {\"g1\": 10, \"g2\": 10, \"g3\": 10, \"g4\": 10, \"g5\": 9}\n",
    "\n",
    "cohort = gr.Cohort(\n",
    "    data,\n",
    "    nums=[\"mark\"],\n",
    "    groups=groups,\n",
    ")\n",
    "\n",
    "cohort.diversity"
   ]
  },
  {
   "cell_type": "code",
   "execution_count": 3,
   "metadata": {},
   "outputs": [
    {
     "data": {
      "text/html": [
       "<div>\n",
       "<style scoped>\n",
       "    .dataframe tbody tr th:only-of-type {\n",
       "        vertical-align: middle;\n",
       "    }\n",
       "\n",
       "    .dataframe tbody tr th {\n",
       "        vertical-align: top;\n",
       "    }\n",
       "\n",
       "    .dataframe thead th {\n",
       "        text-align: right;\n",
       "    }\n",
       "</style>\n",
       "<table border=\"1\" class=\"dataframe\">\n",
       "  <thead>\n",
       "    <tr style=\"text-align: right;\">\n",
       "      <th></th>\n",
       "      <th>size</th>\n",
       "      <th>diversity_cost</th>\n",
       "      <th>mean(mark)</th>\n",
       "      <th>std(mark)</th>\n",
       "    </tr>\n",
       "    <tr>\n",
       "      <th>group</th>\n",
       "      <th></th>\n",
       "      <th></th>\n",
       "      <th></th>\n",
       "      <th></th>\n",
       "    </tr>\n",
       "  </thead>\n",
       "  <tbody>\n",
       "    <tr>\n",
       "      <th>g1</th>\n",
       "      <td>10</td>\n",
       "      <td>0.734726</td>\n",
       "      <td>67.18</td>\n",
       "      <td>4.64</td>\n",
       "    </tr>\n",
       "    <tr>\n",
       "      <th>g2</th>\n",
       "      <td>10</td>\n",
       "      <td>0.570221</td>\n",
       "      <td>59.37</td>\n",
       "      <td>21.33</td>\n",
       "    </tr>\n",
       "    <tr>\n",
       "      <th>g3</th>\n",
       "      <td>10</td>\n",
       "      <td>0.836174</td>\n",
       "      <td>70.19</td>\n",
       "      <td>3.88</td>\n",
       "    </tr>\n",
       "    <tr>\n",
       "      <th>g4</th>\n",
       "      <td>10</td>\n",
       "      <td>0.755873</td>\n",
       "      <td>63.08</td>\n",
       "      <td>3.47</td>\n",
       "    </tr>\n",
       "    <tr>\n",
       "      <th>g5</th>\n",
       "      <td>9</td>\n",
       "      <td>0.646707</td>\n",
       "      <td>55.37</td>\n",
       "      <td>21.52</td>\n",
       "    </tr>\n",
       "  </tbody>\n",
       "</table>\n",
       "</div>"
      ],
      "text/plain": [
       "       size  diversity_cost  mean(mark)  std(mark)\n",
       "group                                             \n",
       "g1       10        0.734726       67.18       4.64\n",
       "g2       10        0.570221       59.37      21.33\n",
       "g3       10        0.836174       70.19       3.88\n",
       "g4       10        0.755873       63.08       3.47\n",
       "g5        9        0.646707       55.37      21.52"
      ]
     },
     "execution_count": 3,
     "metadata": {},
     "output_type": "execute_result"
    }
   ],
   "source": [
    "cohort.overview()"
   ]
  },
  {
   "cell_type": "code",
   "execution_count": 4,
   "metadata": {},
   "outputs": [
    {
     "name": "stderr",
     "output_type": "stream",
     "text": [
      "Solving:   0%|          | 0/1000 [00:00<?, ?it/s, Cost=pending, Acceptance rate=pending]"
     ]
    },
    {
     "name": "stderr",
     "output_type": "stream",
     "text": [
      "Solving: 100%|██████████| 1000/1000 [00:04<00:00, 214.52it/s, diversity_cost=2.85, restriction_cost=0, acceptance_rate=0.01]          \n"
     ]
    }
   ],
   "source": [
    "solver = gr.Solver()\n",
    "solver.solve(cohort=cohort, n=1000)"
   ]
  },
  {
   "cell_type": "code",
   "execution_count": 5,
   "metadata": {},
   "outputs": [
    {
     "data": {
      "text/html": [
       "<div>\n",
       "<style scoped>\n",
       "    .dataframe tbody tr th:only-of-type {\n",
       "        vertical-align: middle;\n",
       "    }\n",
       "\n",
       "    .dataframe tbody tr th {\n",
       "        vertical-align: top;\n",
       "    }\n",
       "\n",
       "    .dataframe thead th {\n",
       "        text-align: right;\n",
       "    }\n",
       "</style>\n",
       "<table border=\"1\" class=\"dataframe\">\n",
       "  <thead>\n",
       "    <tr style=\"text-align: right;\">\n",
       "      <th></th>\n",
       "      <th>size</th>\n",
       "      <th>diversity_cost</th>\n",
       "      <th>mean(mark)</th>\n",
       "      <th>std(mark)</th>\n",
       "    </tr>\n",
       "    <tr>\n",
       "      <th>group</th>\n",
       "      <th></th>\n",
       "      <th></th>\n",
       "      <th></th>\n",
       "      <th></th>\n",
       "    </tr>\n",
       "  </thead>\n",
       "  <tbody>\n",
       "    <tr>\n",
       "      <th>g1</th>\n",
       "      <td>10</td>\n",
       "      <td>0.558714</td>\n",
       "      <td>65.62</td>\n",
       "      <td>6.78</td>\n",
       "    </tr>\n",
       "    <tr>\n",
       "      <th>g2</th>\n",
       "      <td>10</td>\n",
       "      <td>0.546516</td>\n",
       "      <td>60.36</td>\n",
       "      <td>21.22</td>\n",
       "    </tr>\n",
       "    <tr>\n",
       "      <th>g3</th>\n",
       "      <td>10</td>\n",
       "      <td>0.553297</td>\n",
       "      <td>65.59</td>\n",
       "      <td>6.85</td>\n",
       "    </tr>\n",
       "    <tr>\n",
       "      <th>g4</th>\n",
       "      <td>10</td>\n",
       "      <td>0.570384</td>\n",
       "      <td>65.70</td>\n",
       "      <td>6.63</td>\n",
       "    </tr>\n",
       "    <tr>\n",
       "      <th>g5</th>\n",
       "      <td>9</td>\n",
       "      <td>0.624788</td>\n",
       "      <td>58.20</td>\n",
       "      <td>21.84</td>\n",
       "    </tr>\n",
       "  </tbody>\n",
       "</table>\n",
       "</div>"
      ],
      "text/plain": [
       "       size  diversity_cost  mean(mark)  std(mark)\n",
       "group                                             \n",
       "g1       10        0.558714       65.62       6.78\n",
       "g2       10        0.546516       60.36      21.22\n",
       "g3       10        0.553297       65.59       6.85\n",
       "g4       10        0.570384       65.70       6.63\n",
       "g5        9        0.624788       58.20      21.84"
      ]
     },
     "execution_count": 5,
     "metadata": {},
     "output_type": "execute_result"
    }
   ],
   "source": [
    "cohort.overview()"
   ]
  },
  {
   "cell_type": "code",
   "execution_count": 5,
   "metadata": {},
   "outputs": [
    {
     "data": {
      "text/plain": [
       "np.int64(0)"
      ]
     },
     "execution_count": 5,
     "metadata": {},
     "output_type": "execute_result"
    }
   ],
   "source": [
    "c.restriction_cost(keep_together=keep_together, keep_separate=keep_separate)"
   ]
  },
  {
   "cell_type": "code",
   "execution_count": 6,
   "metadata": {},
   "outputs": [
    {
     "data": {
      "text/plain": [
       "np.float64(0.27505941627153374)"
      ]
     },
     "execution_count": 6,
     "metadata": {},
     "output_type": "execute_result"
    }
   ],
   "source": [
    "c[\"g1\"].diversity_cost(c.diversity())"
   ]
  },
  {
   "cell_type": "code",
   "execution_count": 7,
   "metadata": {},
   "outputs": [
    {
     "data": {
      "text/plain": [
       "np.int64(1)"
      ]
     },
     "execution_count": 7,
     "metadata": {},
     "output_type": "execute_result"
    }
   ],
   "source": [
    "c[\"g1\"].restriction_cost(keep_separate=keep_separate, keep_together=keep_together)"
   ]
  },
  {
   "cell_type": "code",
   "execution_count": 8,
   "metadata": {},
   "outputs": [
    {
     "name": "stderr",
     "output_type": "stream",
     "text": [
      "/home/mbeg/repos/teachnology/groupster/src/groupster/cohort.py:46: FutureWarning: The default of observed=False is deprecated and will be changed to True in a future version of pandas. Pass observed=False to retain current behavior or observed=True to adopt the future default and silence this warning.\n",
      "  gb = self.data.groupby(\"group\")\n"
     ]
    },
    {
     "data": {
      "text/html": [
       "<div>\n",
       "<style scoped>\n",
       "    .dataframe tbody tr th:only-of-type {\n",
       "        vertical-align: middle;\n",
       "    }\n",
       "\n",
       "    .dataframe tbody tr th {\n",
       "        vertical-align: top;\n",
       "    }\n",
       "\n",
       "    .dataframe thead th {\n",
       "        text-align: right;\n",
       "    }\n",
       "</style>\n",
       "<table border=\"1\" class=\"dataframe\">\n",
       "  <thead>\n",
       "    <tr style=\"text-align: right;\">\n",
       "      <th></th>\n",
       "      <th>size</th>\n",
       "      <th>diversity_cost</th>\n",
       "      <th>female</th>\n",
       "      <th>china</th>\n",
       "      <th>mean(mark)</th>\n",
       "      <th>std(mark)</th>\n",
       "    </tr>\n",
       "    <tr>\n",
       "      <th>group</th>\n",
       "      <th></th>\n",
       "      <th></th>\n",
       "      <th></th>\n",
       "      <th></th>\n",
       "      <th></th>\n",
       "      <th></th>\n",
       "    </tr>\n",
       "  </thead>\n",
       "  <tbody>\n",
       "    <tr>\n",
       "      <th>g1</th>\n",
       "      <td>10</td>\n",
       "      <td>0.275059</td>\n",
       "      <td>7</td>\n",
       "      <td>5</td>\n",
       "      <td>64.90</td>\n",
       "      <td>6.46</td>\n",
       "    </tr>\n",
       "    <tr>\n",
       "      <th>g2</th>\n",
       "      <td>10</td>\n",
       "      <td>0.392428</td>\n",
       "      <td>6</td>\n",
       "      <td>6</td>\n",
       "      <td>68.67</td>\n",
       "      <td>8.95</td>\n",
       "    </tr>\n",
       "    <tr>\n",
       "      <th>g3</th>\n",
       "      <td>10</td>\n",
       "      <td>0.544023</td>\n",
       "      <td>6</td>\n",
       "      <td>4</td>\n",
       "      <td>65.38</td>\n",
       "      <td>4.04</td>\n",
       "    </tr>\n",
       "    <tr>\n",
       "      <th>g4</th>\n",
       "      <td>9</td>\n",
       "      <td>0.565330</td>\n",
       "      <td>5</td>\n",
       "      <td>3</td>\n",
       "      <td>64.27</td>\n",
       "      <td>10.12</td>\n",
       "    </tr>\n",
       "  </tbody>\n",
       "</table>\n",
       "</div>"
      ],
      "text/plain": [
       "       size  diversity_cost  female  china  mean(mark)  std(mark)\n",
       "group                                                            \n",
       "g1       10        0.275059       7      5       64.90       6.46\n",
       "g2       10        0.392428       6      6       68.67       8.95\n",
       "g3       10        0.544023       6      4       65.38       4.04\n",
       "g4        9        0.565330       5      3       64.27      10.12"
      ]
     },
     "execution_count": 8,
     "metadata": {},
     "output_type": "execute_result"
    }
   ],
   "source": [
    "c.overview()"
   ]
  },
  {
   "cell_type": "code",
   "execution_count": 9,
   "metadata": {},
   "outputs": [],
   "source": [
    "s = gr.Solver(keep_separate=keep_separate, keep_together=keep_together)"
   ]
  },
  {
   "cell_type": "code",
   "execution_count": 10,
   "metadata": {},
   "outputs": [
    {
     "name": "stderr",
     "output_type": "stream",
     "text": [
      "Solving: 100%|██████████| 2000/2000 [00:31<00:00, 63.64it/s, diversity_cost=0.367, restriction_cost=-4, acceptance_rate=0]            \n"
     ]
    }
   ],
   "source": [
    "s.solve(cohort=c, n=2000)"
   ]
  },
  {
   "cell_type": "code",
   "execution_count": 11,
   "metadata": {},
   "outputs": [
    {
     "name": "stderr",
     "output_type": "stream",
     "text": [
      "/home/mbeg/repos/teachnology/groupster/src/groupster/cohort.py:46: FutureWarning: The default of observed=False is deprecated and will be changed to True in a future version of pandas. Pass observed=False to retain current behavior or observed=True to adopt the future default and silence this warning.\n",
      "  gb = self.data.groupby(\"group\")\n"
     ]
    },
    {
     "data": {
      "text/html": [
       "<div>\n",
       "<style scoped>\n",
       "    .dataframe tbody tr th:only-of-type {\n",
       "        vertical-align: middle;\n",
       "    }\n",
       "\n",
       "    .dataframe tbody tr th {\n",
       "        vertical-align: top;\n",
       "    }\n",
       "\n",
       "    .dataframe thead th {\n",
       "        text-align: right;\n",
       "    }\n",
       "</style>\n",
       "<table border=\"1\" class=\"dataframe\">\n",
       "  <thead>\n",
       "    <tr style=\"text-align: right;\">\n",
       "      <th></th>\n",
       "      <th>size</th>\n",
       "      <th>diversity_cost</th>\n",
       "      <th>female</th>\n",
       "      <th>china</th>\n",
       "      <th>mean(mark)</th>\n",
       "      <th>std(mark)</th>\n",
       "    </tr>\n",
       "    <tr>\n",
       "      <th>group</th>\n",
       "      <th></th>\n",
       "      <th></th>\n",
       "      <th></th>\n",
       "      <th></th>\n",
       "      <th></th>\n",
       "      <th></th>\n",
       "    </tr>\n",
       "  </thead>\n",
       "  <tbody>\n",
       "    <tr>\n",
       "      <th>g1</th>\n",
       "      <td>10</td>\n",
       "      <td>0.055741</td>\n",
       "      <td>6</td>\n",
       "      <td>5</td>\n",
       "      <td>65.96</td>\n",
       "      <td>7.49</td>\n",
       "    </tr>\n",
       "    <tr>\n",
       "      <th>g2</th>\n",
       "      <td>10</td>\n",
       "      <td>0.094007</td>\n",
       "      <td>6</td>\n",
       "      <td>4</td>\n",
       "      <td>67.00</td>\n",
       "      <td>7.48</td>\n",
       "    </tr>\n",
       "    <tr>\n",
       "      <th>g3</th>\n",
       "      <td>10</td>\n",
       "      <td>0.111650</td>\n",
       "      <td>6</td>\n",
       "      <td>5</td>\n",
       "      <td>62.72</td>\n",
       "      <td>7.55</td>\n",
       "    </tr>\n",
       "    <tr>\n",
       "      <th>g4</th>\n",
       "      <td>9</td>\n",
       "      <td>0.105522</td>\n",
       "      <td>6</td>\n",
       "      <td>4</td>\n",
       "      <td>68.20</td>\n",
       "      <td>7.47</td>\n",
       "    </tr>\n",
       "  </tbody>\n",
       "</table>\n",
       "</div>"
      ],
      "text/plain": [
       "       size  diversity_cost  female  china  mean(mark)  std(mark)\n",
       "group                                                            \n",
       "g1       10        0.055741       6      5       65.96       7.49\n",
       "g2       10        0.094007       6      4       67.00       7.48\n",
       "g3       10        0.111650       6      5       62.72       7.55\n",
       "g4        9        0.105522       6      4       68.20       7.47"
      ]
     },
     "execution_count": 11,
     "metadata": {},
     "output_type": "execute_result"
    }
   ],
   "source": [
    "c.overview()"
   ]
  },
  {
   "cell_type": "code",
   "execution_count": 9,
   "metadata": {},
   "outputs": [
    {
     "data": {
      "text/plain": [
       "np.float64(0.2653061224489796)"
      ]
     },
     "execution_count": 9,
     "metadata": {},
     "output_type": "execute_result"
    }
   ],
   "source": [
    "import pandas as pd\n",
    "\n",
    "\n",
    "c = pd.read_csv('../../tests/data/cohort.csv', index_col='username')\n",
    "\n",
    "c.female.mean()"
   ]
  },
  {
   "cell_type": "code",
   "execution_count": null,
   "metadata": {},
   "outputs": [
    {
     "data": {
      "text/plain": [
       "np.float64(4.212094886553879)"
      ]
     },
     "execution_count": 13,
     "metadata": {},
     "output_type": "execute_result"
    }
   ],
   "source": [
    "c.iloc[:10, :].mark.std()"
   ]
  },
  {
   "cell_type": "code",
   "execution_count": 11,
   "metadata": {},
   "outputs": [
    {
     "data": {
      "text/plain": [
       "np.float64(65.74510204081633)"
      ]
     },
     "execution_count": 11,
     "metadata": {},
     "output_type": "execute_result"
    }
   ],
   "source": [
    "c.mark.mean()"
   ]
  },
  {
   "cell_type": "code",
   "execution_count": 12,
   "metadata": {},
   "outputs": [
    {
     "data": {
      "text/plain": [
       "np.float64(5.383408586593077)"
      ]
     },
     "execution_count": 12,
     "metadata": {},
     "output_type": "execute_result"
    }
   ],
   "source": [
    "c.mark.std()"
   ]
  },
  {
   "cell_type": "code",
   "execution_count": 15,
   "metadata": {},
   "outputs": [
    {
     "data": {
      "text/plain": [
       "group\n",
       "g1    65.621\n",
       "g2    60.361\n",
       "g3    65.592\n",
       "g4    65.697\n",
       "g5    58.200\n",
       "Name: mark, dtype: float64"
      ]
     },
     "execution_count": 15,
     "metadata": {},
     "output_type": "execute_result"
    }
   ],
   "source": [
    "cohort.data.groupby('group').mark.mean()"
   ]
  },
  {
   "cell_type": "code",
   "execution_count": null,
   "metadata": {},
   "outputs": [],
   "source": []
  }
 ],
 "metadata": {
  "kernelspec": {
   "display_name": ".venv",
   "language": "python",
   "name": "python3"
  },
  "language_info": {
   "codemirror_mode": {
    "name": "ipython",
    "version": 3
   },
   "file_extension": ".py",
   "mimetype": "text/x-python",
   "name": "python",
   "nbconvert_exporter": "python",
   "pygments_lexer": "ipython3",
   "version": "3.13.0"
  }
 },
 "nbformat": 4,
 "nbformat_minor": 2
}
