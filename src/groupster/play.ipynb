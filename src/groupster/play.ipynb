{
 "cells": [
  {
   "cell_type": "code",
   "execution_count": 1,
   "metadata": {},
   "outputs": [],
   "source": [
    "import groupster as gr\n",
    "import fakeitmakeit as fm"
   ]
  },
  {
   "cell_type": "code",
   "execution_count": 2,
   "metadata": {},
   "outputs": [
    {
     "data": {
      "text/plain": [
       "bool_female       0.615385\n",
       "bool_china        0.461538\n",
       "num_mark_mean    65.884474\n",
       "num_mark_std      7.481222\n",
       "dtype: float64"
      ]
     },
     "execution_count": 2,
     "metadata": {},
     "output_type": "execute_result"
    }
   ],
   "source": [
    "c = fm.cohort(n=39)\n",
    "\n",
    "c = c.assign(\n",
    "    female=lambda df_: df_.gender.eq(\"male\"),\n",
    "    china=lambda df_: df_.nationality.eq(\"China\"),\n",
    "    name=lambda df_: df_.first_name + \" \" + df_.last_name,\n",
    ").loc[:, [\"name\", \"female\", \"china\"]]\n",
    "\n",
    "a = fm.assignment(c.index, 65, 7, pfail=0.02, pnan=0.02)\n",
    "\n",
    "data = c.merge(a, left_index=True, right_index=True)\n",
    "\n",
    "groups = {\"g1\": 10, \"g2\": 10, \"g3\": 10, \"g4\": 9}\n",
    "\n",
    "c = gr.Cohort(\n",
    "    data,\n",
    "    bools=[\"female\", \"china\"],\n",
    "    nums=[\"mark\"],\n",
    "    groups=groups,\n",
    ")\n",
    "\n",
    "c.diversity()"
   ]
  },
  {
   "cell_type": "code",
   "execution_count": 3,
   "metadata": {},
   "outputs": [
    {
     "name": "stdout",
     "output_type": "stream",
     "text": [
      "[['mo5929', 'es539'], ['ys7296', 'ta779']]\n",
      "[['nhm82', 'grw545'], ['tdp32', 'py373']]\n"
     ]
    }
   ],
   "source": [
    "keep_together = [c.data.sample(2).index.tolist() for _ in range(2)]\n",
    "keep_separate = [c.data.sample(2).index.tolist() for _ in range(2)]\n",
    "\n",
    "print(keep_together)\n",
    "print(keep_separate)"
   ]
  },
  {
   "cell_type": "code",
   "execution_count": 4,
   "metadata": {},
   "outputs": [
    {
     "data": {
      "text/plain": [
       "np.float64(1.7768406717614256)"
      ]
     },
     "execution_count": 4,
     "metadata": {},
     "output_type": "execute_result"
    }
   ],
   "source": [
    "c.diversity_cost()"
   ]
  },
  {
   "cell_type": "code",
   "execution_count": 5,
   "metadata": {},
   "outputs": [
    {
     "data": {
      "text/plain": [
       "np.int64(0)"
      ]
     },
     "execution_count": 5,
     "metadata": {},
     "output_type": "execute_result"
    }
   ],
   "source": [
    "c.restriction_cost(keep_together=keep_together, keep_separate=keep_separate)"
   ]
  },
  {
   "cell_type": "code",
   "execution_count": 6,
   "metadata": {},
   "outputs": [
    {
     "data": {
      "text/plain": [
       "np.float64(0.27505941627153374)"
      ]
     },
     "execution_count": 6,
     "metadata": {},
     "output_type": "execute_result"
    }
   ],
   "source": [
    "c['g1'].diversity_cost(c.diversity())"
   ]
  },
  {
   "cell_type": "code",
   "execution_count": 7,
   "metadata": {},
   "outputs": [
    {
     "data": {
      "text/plain": [
       "np.int64(1)"
      ]
     },
     "execution_count": 7,
     "metadata": {},
     "output_type": "execute_result"
    }
   ],
   "source": [
    "c['g1'].restriction_cost(keep_separate=keep_separate, keep_together=keep_together)"
   ]
  },
  {
   "cell_type": "code",
   "execution_count": 8,
   "metadata": {},
   "outputs": [
    {
     "name": "stderr",
     "output_type": "stream",
     "text": [
      "/home/mbeg/repos/teachnology/groupster/src/groupster/cohort.py:46: FutureWarning: The default of observed=False is deprecated and will be changed to True in a future version of pandas. Pass observed=False to retain current behavior or observed=True to adopt the future default and silence this warning.\n",
      "  gb = self.data.groupby(\"group\")\n"
     ]
    },
    {
     "data": {
      "text/html": [
       "<div>\n",
       "<style scoped>\n",
       "    .dataframe tbody tr th:only-of-type {\n",
       "        vertical-align: middle;\n",
       "    }\n",
       "\n",
       "    .dataframe tbody tr th {\n",
       "        vertical-align: top;\n",
       "    }\n",
       "\n",
       "    .dataframe thead th {\n",
       "        text-align: right;\n",
       "    }\n",
       "</style>\n",
       "<table border=\"1\" class=\"dataframe\">\n",
       "  <thead>\n",
       "    <tr style=\"text-align: right;\">\n",
       "      <th></th>\n",
       "      <th>size</th>\n",
       "      <th>diversity_cost</th>\n",
       "      <th>female</th>\n",
       "      <th>china</th>\n",
       "      <th>mean(mark)</th>\n",
       "      <th>std(mark)</th>\n",
       "    </tr>\n",
       "    <tr>\n",
       "      <th>group</th>\n",
       "      <th></th>\n",
       "      <th></th>\n",
       "      <th></th>\n",
       "      <th></th>\n",
       "      <th></th>\n",
       "      <th></th>\n",
       "    </tr>\n",
       "  </thead>\n",
       "  <tbody>\n",
       "    <tr>\n",
       "      <th>g1</th>\n",
       "      <td>10</td>\n",
       "      <td>0.275059</td>\n",
       "      <td>7</td>\n",
       "      <td>5</td>\n",
       "      <td>64.90</td>\n",
       "      <td>6.46</td>\n",
       "    </tr>\n",
       "    <tr>\n",
       "      <th>g2</th>\n",
       "      <td>10</td>\n",
       "      <td>0.392428</td>\n",
       "      <td>6</td>\n",
       "      <td>6</td>\n",
       "      <td>68.67</td>\n",
       "      <td>8.95</td>\n",
       "    </tr>\n",
       "    <tr>\n",
       "      <th>g3</th>\n",
       "      <td>10</td>\n",
       "      <td>0.544023</td>\n",
       "      <td>6</td>\n",
       "      <td>4</td>\n",
       "      <td>65.38</td>\n",
       "      <td>4.04</td>\n",
       "    </tr>\n",
       "    <tr>\n",
       "      <th>g4</th>\n",
       "      <td>9</td>\n",
       "      <td>0.565330</td>\n",
       "      <td>5</td>\n",
       "      <td>3</td>\n",
       "      <td>64.27</td>\n",
       "      <td>10.12</td>\n",
       "    </tr>\n",
       "  </tbody>\n",
       "</table>\n",
       "</div>"
      ],
      "text/plain": [
       "       size  diversity_cost  female  china  mean(mark)  std(mark)\n",
       "group                                                            \n",
       "g1       10        0.275059       7      5       64.90       6.46\n",
       "g2       10        0.392428       6      6       68.67       8.95\n",
       "g3       10        0.544023       6      4       65.38       4.04\n",
       "g4        9        0.565330       5      3       64.27      10.12"
      ]
     },
     "execution_count": 8,
     "metadata": {},
     "output_type": "execute_result"
    }
   ],
   "source": [
    "c.overview()"
   ]
  },
  {
   "cell_type": "code",
   "execution_count": 9,
   "metadata": {},
   "outputs": [],
   "source": [
    "s = gr.Solver(keep_separate=keep_separate, keep_together=keep_together)"
   ]
  },
  {
   "cell_type": "code",
   "execution_count": 10,
   "metadata": {},
   "outputs": [
    {
     "name": "stderr",
     "output_type": "stream",
     "text": [
      "Solving: 100%|██████████| 2000/2000 [00:31<00:00, 63.64it/s, diversity_cost=0.367, restriction_cost=-4, acceptance_rate=0]            \n"
     ]
    }
   ],
   "source": [
    "s.solve(cohort=c, n=2000)"
   ]
  },
  {
   "cell_type": "code",
   "execution_count": 11,
   "metadata": {},
   "outputs": [
    {
     "name": "stderr",
     "output_type": "stream",
     "text": [
      "/home/mbeg/repos/teachnology/groupster/src/groupster/cohort.py:46: FutureWarning: The default of observed=False is deprecated and will be changed to True in a future version of pandas. Pass observed=False to retain current behavior or observed=True to adopt the future default and silence this warning.\n",
      "  gb = self.data.groupby(\"group\")\n"
     ]
    },
    {
     "data": {
      "text/html": [
       "<div>\n",
       "<style scoped>\n",
       "    .dataframe tbody tr th:only-of-type {\n",
       "        vertical-align: middle;\n",
       "    }\n",
       "\n",
       "    .dataframe tbody tr th {\n",
       "        vertical-align: top;\n",
       "    }\n",
       "\n",
       "    .dataframe thead th {\n",
       "        text-align: right;\n",
       "    }\n",
       "</style>\n",
       "<table border=\"1\" class=\"dataframe\">\n",
       "  <thead>\n",
       "    <tr style=\"text-align: right;\">\n",
       "      <th></th>\n",
       "      <th>size</th>\n",
       "      <th>diversity_cost</th>\n",
       "      <th>female</th>\n",
       "      <th>china</th>\n",
       "      <th>mean(mark)</th>\n",
       "      <th>std(mark)</th>\n",
       "    </tr>\n",
       "    <tr>\n",
       "      <th>group</th>\n",
       "      <th></th>\n",
       "      <th></th>\n",
       "      <th></th>\n",
       "      <th></th>\n",
       "      <th></th>\n",
       "      <th></th>\n",
       "    </tr>\n",
       "  </thead>\n",
       "  <tbody>\n",
       "    <tr>\n",
       "      <th>g1</th>\n",
       "      <td>10</td>\n",
       "      <td>0.055741</td>\n",
       "      <td>6</td>\n",
       "      <td>5</td>\n",
       "      <td>65.96</td>\n",
       "      <td>7.49</td>\n",
       "    </tr>\n",
       "    <tr>\n",
       "      <th>g2</th>\n",
       "      <td>10</td>\n",
       "      <td>0.094007</td>\n",
       "      <td>6</td>\n",
       "      <td>4</td>\n",
       "      <td>67.00</td>\n",
       "      <td>7.48</td>\n",
       "    </tr>\n",
       "    <tr>\n",
       "      <th>g3</th>\n",
       "      <td>10</td>\n",
       "      <td>0.111650</td>\n",
       "      <td>6</td>\n",
       "      <td>5</td>\n",
       "      <td>62.72</td>\n",
       "      <td>7.55</td>\n",
       "    </tr>\n",
       "    <tr>\n",
       "      <th>g4</th>\n",
       "      <td>9</td>\n",
       "      <td>0.105522</td>\n",
       "      <td>6</td>\n",
       "      <td>4</td>\n",
       "      <td>68.20</td>\n",
       "      <td>7.47</td>\n",
       "    </tr>\n",
       "  </tbody>\n",
       "</table>\n",
       "</div>"
      ],
      "text/plain": [
       "       size  diversity_cost  female  china  mean(mark)  std(mark)\n",
       "group                                                            \n",
       "g1       10        0.055741       6      5       65.96       7.49\n",
       "g2       10        0.094007       6      4       67.00       7.48\n",
       "g3       10        0.111650       6      5       62.72       7.55\n",
       "g4        9        0.105522       6      4       68.20       7.47"
      ]
     },
     "execution_count": 11,
     "metadata": {},
     "output_type": "execute_result"
    }
   ],
   "source": [
    "c.overview()"
   ]
  },
  {
   "cell_type": "code",
   "execution_count": 12,
   "metadata": {},
   "outputs": [
    {
     "data": {
      "text/plain": [
       "[['mo5929', 'es539'], ['ys7296', 'ta779']]"
      ]
     },
     "execution_count": 12,
     "metadata": {},
     "output_type": "execute_result"
    }
   ],
   "source": [
    "keep_together"
   ]
  },
  {
   "cell_type": "code",
   "execution_count": 14,
   "metadata": {},
   "outputs": [
    {
     "data": {
      "text/plain": [
       "[['nhm82', 'grw545'], ['tdp32', 'py373']]"
      ]
     },
     "execution_count": 14,
     "metadata": {},
     "output_type": "execute_result"
    }
   ],
   "source": [
    "keep_separate"
   ]
  },
  {
   "cell_type": "code",
   "execution_count": 13,
   "metadata": {},
   "outputs": [
    {
     "data": {
      "text/html": [
       "<div>\n",
       "<style scoped>\n",
       "    .dataframe tbody tr th:only-of-type {\n",
       "        vertical-align: middle;\n",
       "    }\n",
       "\n",
       "    .dataframe tbody tr th {\n",
       "        vertical-align: top;\n",
       "    }\n",
       "\n",
       "    .dataframe thead th {\n",
       "        text-align: right;\n",
       "    }\n",
       "</style>\n",
       "<table border=\"1\" class=\"dataframe\">\n",
       "  <thead>\n",
       "    <tr style=\"text-align: right;\">\n",
       "      <th></th>\n",
       "      <th>name</th>\n",
       "      <th>female</th>\n",
       "      <th>china</th>\n",
       "      <th>mark</th>\n",
       "      <th>group</th>\n",
       "    </tr>\n",
       "    <tr>\n",
       "      <th>username</th>\n",
       "      <th></th>\n",
       "      <th></th>\n",
       "      <th></th>\n",
       "      <th></th>\n",
       "      <th></th>\n",
       "    </tr>\n",
       "  </thead>\n",
       "  <tbody>\n",
       "    <tr>\n",
       "      <th>eo48</th>\n",
       "      <td>Elif Ominova</td>\n",
       "      <td>False</td>\n",
       "      <td>False</td>\n",
       "      <td>81.40</td>\n",
       "      <td>g1</td>\n",
       "    </tr>\n",
       "    <tr>\n",
       "      <th>jwl620</th>\n",
       "      <td>John Lynch</td>\n",
       "      <td>True</td>\n",
       "      <td>False</td>\n",
       "      <td>67.89</td>\n",
       "      <td>g1</td>\n",
       "    </tr>\n",
       "    <tr>\n",
       "      <th>lh627</th>\n",
       "      <td>Lei Hu</td>\n",
       "      <td>True</td>\n",
       "      <td>True</td>\n",
       "      <td>68.91</td>\n",
       "      <td>g1</td>\n",
       "    </tr>\n",
       "    <tr>\n",
       "      <th>lcx85</th>\n",
       "      <td>Li Xiao</td>\n",
       "      <td>False</td>\n",
       "      <td>True</td>\n",
       "      <td>57.02</td>\n",
       "      <td>g1</td>\n",
       "    </tr>\n",
       "    <tr>\n",
       "      <th>mw66</th>\n",
       "      <td>Min Wang</td>\n",
       "      <td>True</td>\n",
       "      <td>True</td>\n",
       "      <td>61.06</td>\n",
       "      <td>g1</td>\n",
       "    </tr>\n",
       "    <tr>\n",
       "      <th>nhm82</th>\n",
       "      <td>Nora Mosley</td>\n",
       "      <td>True</td>\n",
       "      <td>False</td>\n",
       "      <td>64.06</td>\n",
       "      <td>g1</td>\n",
       "    </tr>\n",
       "    <tr>\n",
       "      <th>py373</th>\n",
       "      <td>Ping Yuan</td>\n",
       "      <td>False</td>\n",
       "      <td>True</td>\n",
       "      <td>56.48</td>\n",
       "      <td>g1</td>\n",
       "    </tr>\n",
       "    <tr>\n",
       "      <th>rl973</th>\n",
       "      <td>Robert Logan</td>\n",
       "      <td>True</td>\n",
       "      <td>False</td>\n",
       "      <td>68.94</td>\n",
       "      <td>g1</td>\n",
       "    </tr>\n",
       "    <tr>\n",
       "      <th>vpb8842</th>\n",
       "      <td>Victor Baker</td>\n",
       "      <td>True</td>\n",
       "      <td>False</td>\n",
       "      <td>62.17</td>\n",
       "      <td>g1</td>\n",
       "    </tr>\n",
       "    <tr>\n",
       "      <th>yb18</th>\n",
       "      <td>Yan Bai</td>\n",
       "      <td>False</td>\n",
       "      <td>True</td>\n",
       "      <td>71.70</td>\n",
       "      <td>g1</td>\n",
       "    </tr>\n",
       "    <tr>\n",
       "      <th>gh87</th>\n",
       "      <td>Gang Han</td>\n",
       "      <td>False</td>\n",
       "      <td>True</td>\n",
       "      <td>70.09</td>\n",
       "      <td>g2</td>\n",
       "    </tr>\n",
       "    <tr>\n",
       "      <th>grw545</th>\n",
       "      <td>Gary Williams</td>\n",
       "      <td>True</td>\n",
       "      <td>False</td>\n",
       "      <td>68.95</td>\n",
       "      <td>g2</td>\n",
       "    </tr>\n",
       "    <tr>\n",
       "      <th>ltf326</th>\n",
       "      <td>Lino Fabregat</td>\n",
       "      <td>True</td>\n",
       "      <td>False</td>\n",
       "      <td>73.19</td>\n",
       "      <td>g2</td>\n",
       "    </tr>\n",
       "    <tr>\n",
       "      <th>mib797</th>\n",
       "      <td>Matteo Bartoli</td>\n",
       "      <td>True</td>\n",
       "      <td>False</td>\n",
       "      <td>69.94</td>\n",
       "      <td>g2</td>\n",
       "    </tr>\n",
       "    <tr>\n",
       "      <th>sb456</th>\n",
       "      <td>Sarah Bernard</td>\n",
       "      <td>False</td>\n",
       "      <td>False</td>\n",
       "      <td>NaN</td>\n",
       "      <td>g2</td>\n",
       "    </tr>\n",
       "    <tr>\n",
       "      <th>tbq785</th>\n",
       "      <td>Tao Qiao</td>\n",
       "      <td>False</td>\n",
       "      <td>True</td>\n",
       "      <td>64.63</td>\n",
       "      <td>g2</td>\n",
       "    </tr>\n",
       "    <tr>\n",
       "      <th>ta779</th>\n",
       "      <td>Tyler Adams</td>\n",
       "      <td>True</td>\n",
       "      <td>False</td>\n",
       "      <td>62.23</td>\n",
       "      <td>g2</td>\n",
       "    </tr>\n",
       "    <tr>\n",
       "      <th>vj148</th>\n",
       "      <td>Vanessa Jenkins</td>\n",
       "      <td>False</td>\n",
       "      <td>False</td>\n",
       "      <td>79.76</td>\n",
       "      <td>g2</td>\n",
       "    </tr>\n",
       "    <tr>\n",
       "      <th>ys7296</th>\n",
       "      <td>Yan Shen</td>\n",
       "      <td>True</td>\n",
       "      <td>True</td>\n",
       "      <td>56.90</td>\n",
       "      <td>g2</td>\n",
       "    </tr>\n",
       "    <tr>\n",
       "      <th>yh4705</th>\n",
       "      <td>Yang Hu</td>\n",
       "      <td>True</td>\n",
       "      <td>True</td>\n",
       "      <td>57.30</td>\n",
       "      <td>g2</td>\n",
       "    </tr>\n",
       "    <tr>\n",
       "      <th>dh9864</th>\n",
       "      <td>Deborah Hughes</td>\n",
       "      <td>False</td>\n",
       "      <td>False</td>\n",
       "      <td>61.18</td>\n",
       "      <td>g3</td>\n",
       "    </tr>\n",
       "    <tr>\n",
       "      <th>ft71</th>\n",
       "      <td>Fang Tan</td>\n",
       "      <td>True</td>\n",
       "      <td>True</td>\n",
       "      <td>80.42</td>\n",
       "      <td>g3</td>\n",
       "    </tr>\n",
       "    <tr>\n",
       "      <th>jd2285</th>\n",
       "      <td>Jun Deng</td>\n",
       "      <td>False</td>\n",
       "      <td>True</td>\n",
       "      <td>62.40</td>\n",
       "      <td>g3</td>\n",
       "    </tr>\n",
       "    <tr>\n",
       "      <th>mm4130</th>\n",
       "      <td>Michelle Mason</td>\n",
       "      <td>False</td>\n",
       "      <td>False</td>\n",
       "      <td>56.57</td>\n",
       "      <td>g3</td>\n",
       "    </tr>\n",
       "    <tr>\n",
       "      <th>mk2521</th>\n",
       "      <td>Min Kang</td>\n",
       "      <td>True</td>\n",
       "      <td>True</td>\n",
       "      <td>51.63</td>\n",
       "      <td>g3</td>\n",
       "    </tr>\n",
       "    <tr>\n",
       "      <th>mhq6982</th>\n",
       "      <td>Min Qiu</td>\n",
       "      <td>True</td>\n",
       "      <td>True</td>\n",
       "      <td>65.53</td>\n",
       "      <td>g3</td>\n",
       "    </tr>\n",
       "    <tr>\n",
       "      <th>rnb894</th>\n",
       "      <td>Raymond Bishop</td>\n",
       "      <td>True</td>\n",
       "      <td>False</td>\n",
       "      <td>64.56</td>\n",
       "      <td>g3</td>\n",
       "    </tr>\n",
       "    <tr>\n",
       "      <th>tdp32</th>\n",
       "      <td>Tami Parrish</td>\n",
       "      <td>False</td>\n",
       "      <td>False</td>\n",
       "      <td>57.81</td>\n",
       "      <td>g3</td>\n",
       "    </tr>\n",
       "    <tr>\n",
       "      <th>tn405</th>\n",
       "      <td>Thomas Nicholls</td>\n",
       "      <td>True</td>\n",
       "      <td>False</td>\n",
       "      <td>63.93</td>\n",
       "      <td>g3</td>\n",
       "    </tr>\n",
       "    <tr>\n",
       "      <th>xyy256</th>\n",
       "      <td>Xiuying Yin</td>\n",
       "      <td>True</td>\n",
       "      <td>True</td>\n",
       "      <td>63.20</td>\n",
       "      <td>g3</td>\n",
       "    </tr>\n",
       "    <tr>\n",
       "      <th>awp8454</th>\n",
       "      <td>Alexander Parker</td>\n",
       "      <td>True</td>\n",
       "      <td>False</td>\n",
       "      <td>51.15</td>\n",
       "      <td>g4</td>\n",
       "    </tr>\n",
       "    <tr>\n",
       "      <th>es539</th>\n",
       "      <td>Edoardo Sbarbaro</td>\n",
       "      <td>True</td>\n",
       "      <td>False</td>\n",
       "      <td>63.40</td>\n",
       "      <td>g4</td>\n",
       "    </tr>\n",
       "    <tr>\n",
       "      <th>jtz20</th>\n",
       "      <td>Jing Zeng</td>\n",
       "      <td>True</td>\n",
       "      <td>True</td>\n",
       "      <td>73.44</td>\n",
       "      <td>g4</td>\n",
       "    </tr>\n",
       "    <tr>\n",
       "      <th>jy28</th>\n",
       "      <td>Juan Yuan</td>\n",
       "      <td>False</td>\n",
       "      <td>True</td>\n",
       "      <td>74.59</td>\n",
       "      <td>g4</td>\n",
       "    </tr>\n",
       "    <tr>\n",
       "      <th>js1920</th>\n",
       "      <td>Jun Sun</td>\n",
       "      <td>False</td>\n",
       "      <td>True</td>\n",
       "      <td>74.33</td>\n",
       "      <td>g4</td>\n",
       "    </tr>\n",
       "    <tr>\n",
       "      <th>ks70</th>\n",
       "      <td>Kevin Savage</td>\n",
       "      <td>True</td>\n",
       "      <td>False</td>\n",
       "      <td>73.00</td>\n",
       "      <td>g4</td>\n",
       "    </tr>\n",
       "    <tr>\n",
       "      <th>lc2002</th>\n",
       "      <td>Linda Carlson</td>\n",
       "      <td>False</td>\n",
       "      <td>False</td>\n",
       "      <td>66.89</td>\n",
       "      <td>g4</td>\n",
       "    </tr>\n",
       "    <tr>\n",
       "      <th>mo5929</th>\n",
       "      <td>Matthew Oliver</td>\n",
       "      <td>True</td>\n",
       "      <td>False</td>\n",
       "      <td>67.65</td>\n",
       "      <td>g4</td>\n",
       "    </tr>\n",
       "    <tr>\n",
       "      <th>nfh352</th>\n",
       "      <td>Na Hu</td>\n",
       "      <td>True</td>\n",
       "      <td>True</td>\n",
       "      <td>69.31</td>\n",
       "      <td>g4</td>\n",
       "    </tr>\n",
       "  </tbody>\n",
       "</table>\n",
       "</div>"
      ],
      "text/plain": [
       "                      name  female  china   mark group\n",
       "username                                              \n",
       "eo48          Elif Ominova   False  False  81.40    g1\n",
       "jwl620          John Lynch    True  False  67.89    g1\n",
       "lh627               Lei Hu    True   True  68.91    g1\n",
       "lcx85              Li Xiao   False   True  57.02    g1\n",
       "mw66              Min Wang    True   True  61.06    g1\n",
       "nhm82          Nora Mosley    True  False  64.06    g1\n",
       "py373            Ping Yuan   False   True  56.48    g1\n",
       "rl973         Robert Logan    True  False  68.94    g1\n",
       "vpb8842       Victor Baker    True  False  62.17    g1\n",
       "yb18               Yan Bai   False   True  71.70    g1\n",
       "gh87              Gang Han   False   True  70.09    g2\n",
       "grw545       Gary Williams    True  False  68.95    g2\n",
       "ltf326       Lino Fabregat    True  False  73.19    g2\n",
       "mib797      Matteo Bartoli    True  False  69.94    g2\n",
       "sb456        Sarah Bernard   False  False    NaN    g2\n",
       "tbq785            Tao Qiao   False   True  64.63    g2\n",
       "ta779          Tyler Adams    True  False  62.23    g2\n",
       "vj148      Vanessa Jenkins   False  False  79.76    g2\n",
       "ys7296            Yan Shen    True   True  56.90    g2\n",
       "yh4705             Yang Hu    True   True  57.30    g2\n",
       "dh9864      Deborah Hughes   False  False  61.18    g3\n",
       "ft71              Fang Tan    True   True  80.42    g3\n",
       "jd2285            Jun Deng   False   True  62.40    g3\n",
       "mm4130      Michelle Mason   False  False  56.57    g3\n",
       "mk2521            Min Kang    True   True  51.63    g3\n",
       "mhq6982            Min Qiu    True   True  65.53    g3\n",
       "rnb894      Raymond Bishop    True  False  64.56    g3\n",
       "tdp32         Tami Parrish   False  False  57.81    g3\n",
       "tn405      Thomas Nicholls    True  False  63.93    g3\n",
       "xyy256         Xiuying Yin    True   True  63.20    g3\n",
       "awp8454   Alexander Parker    True  False  51.15    g4\n",
       "es539     Edoardo Sbarbaro    True  False  63.40    g4\n",
       "jtz20            Jing Zeng    True   True  73.44    g4\n",
       "jy28             Juan Yuan   False   True  74.59    g4\n",
       "js1920             Jun Sun   False   True  74.33    g4\n",
       "ks70          Kevin Savage    True  False  73.00    g4\n",
       "lc2002       Linda Carlson   False  False  66.89    g4\n",
       "mo5929      Matthew Oliver    True  False  67.65    g4\n",
       "nfh352               Na Hu    True   True  69.31    g4"
      ]
     },
     "execution_count": 13,
     "metadata": {},
     "output_type": "execute_result"
    }
   ],
   "source": [
    "c.data.sort_values(by=[\"group\", \"name\"])"
   ]
  },
  {
   "cell_type": "code",
   "execution_count": null,
   "metadata": {},
   "outputs": [],
   "source": []
  }
 ],
 "metadata": {
  "kernelspec": {
   "display_name": ".venv",
   "language": "python",
   "name": "python3"
  },
  "language_info": {
   "codemirror_mode": {
    "name": "ipython",
    "version": 3
   },
   "file_extension": ".py",
   "mimetype": "text/x-python",
   "name": "python",
   "nbconvert_exporter": "python",
   "pygments_lexer": "ipython3",
   "version": "3.13.0"
  }
 },
 "nbformat": 4,
 "nbformat_minor": 2
}
